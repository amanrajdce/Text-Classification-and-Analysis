{
 "cells": [
  {
   "cell_type": "code",
   "execution_count": 1,
   "metadata": {},
   "outputs": [],
   "source": [
    "import sentiment as sentimentinterface\n",
    "import classify as classify\n",
    "import timeit\n",
    "import numpy as np\n",
    "\n",
    "import matplotlib.pyplot as plt\n",
    "plt.switch_backend('agg')\n",
    "import matplotlib.ticker as ticker\n",
    "%matplotlib inline"
   ]
  },
  {
   "cell_type": "code",
   "execution_count": 2,
   "metadata": {},
   "outputs": [],
   "source": [
    "import lime"
   ]
  },
  {
   "cell_type": "code",
   "execution_count": 3,
   "metadata": {},
   "outputs": [
    {
     "name": "stdout",
     "output_type": "stream",
     "text": [
      "Reading data\n",
      "-- train data\n",
      "sentiment/train.tsv\n",
      "4582\n",
      "-- dev data\n",
      "sentiment/dev.tsv\n",
      "458\n",
      "-- transforming data and labels\n",
      "TfidfVectorizer:\n",
      "yeet2\n",
      "\n",
      "Training classifier\n"
     ]
    }
   ],
   "source": [
    "print(\"Reading data\")\n",
    "tarfname = \"data/sentiment.tar.gz\"\n",
    "sentiment = sentimentinterface.read_files(tarfname, vectorizer = 'tfidf')\n",
    "print(\"\\nTraining classifier\")"
   ]
  },
  {
   "cell_type": "code",
   "execution_count": 4,
   "metadata": {},
   "outputs": [
    {
     "name": "stdout",
     "output_type": "stream",
     "text": [
      "training input shape: (4582, 171009)\n",
      "\n",
      "Evaluating\n",
      "Train accuracy: 1.0\n",
      "Dev accuracy: 0.8056768558951966\n"
     ]
    }
   ],
   "source": [
    "cval = 8\n",
    "cls = classify.train_classifier(sentiment.trainX, sentiment.trainy, cval, 'l2','lbfgs')\n",
    "print('training input shape: ' + str(sentiment.trainX.shape))\n",
    "print(\"\\nEvaluating\")\n",
    "train_acc, train_prob, train_pred = classify.evaluate(sentiment.trainX, sentiment.trainy, cls, name = 'training data')\n",
    "dev_acc, dev_prob, dev_pred = classify.evaluate(sentiment.devX, sentiment.devy, cls, name = 'validation data')\n",
    "print('Train accuracy: ' + str(train_acc))\n",
    "print('Dev accuracy: ' + str(dev_acc))"
   ]
  },
  {
   "cell_type": "code",
   "execution_count": 5,
   "metadata": {},
   "outputs": [
    {
     "data": {
      "text/plain": [
       "(4582,)"
      ]
     },
     "execution_count": 5,
     "metadata": {},
     "output_type": "execute_result"
    }
   ],
   "source": [
    "sentiment.trainy.shape"
   ]
  },
  {
   "cell_type": "code",
   "execution_count": 6,
   "metadata": {},
   "outputs": [
    {
     "data": {
      "text/plain": [
       "(4582,)"
      ]
     },
     "execution_count": 6,
     "metadata": {},
     "output_type": "execute_result"
    }
   ],
   "source": [
    "train_pred.shape"
   ]
  },
  {
   "cell_type": "code",
   "execution_count": 7,
   "metadata": {},
   "outputs": [],
   "source": [
    "feat_names =sentiment.count_vect.get_feature_names()"
   ]
  },
  {
   "cell_type": "code",
   "execution_count": 8,
   "metadata": {},
   "outputs": [
    {
     "data": {
      "text/plain": [
       "171009"
      ]
     },
     "execution_count": 8,
     "metadata": {},
     "output_type": "execute_result"
    }
   ],
   "source": [
    "len(feat_names)"
   ]
  },
  {
   "cell_type": "code",
   "execution_count": 9,
   "metadata": {},
   "outputs": [
    {
     "data": {
      "text/plain": [
       "4582"
      ]
     },
     "execution_count": 9,
     "metadata": {},
     "output_type": "execute_result"
    }
   ],
   "source": [
    "len(train_prob)"
   ]
  },
  {
   "cell_type": "code",
   "execution_count": 10,
   "metadata": {},
   "outputs": [
    {
     "data": {
      "text/plain": [
       "458"
      ]
     },
     "execution_count": 10,
     "metadata": {},
     "output_type": "execute_result"
    }
   ],
   "source": [
    "len(dev_prob)"
   ]
  },
  {
   "cell_type": "code",
   "execution_count": 11,
   "metadata": {},
   "outputs": [
    {
     "data": {
      "text/plain": [
       "array([0.10503824, 0.89496176])"
      ]
     },
     "execution_count": 11,
     "metadata": {},
     "output_type": "execute_result"
    }
   ],
   "source": [
    "train_prob[1]"
   ]
  },
  {
   "cell_type": "code",
   "execution_count": 12,
   "metadata": {},
   "outputs": [
    {
     "data": {
      "text/plain": [
       "1"
      ]
     },
     "execution_count": 12,
     "metadata": {},
     "output_type": "execute_result"
    }
   ],
   "source": [
    "train_pred[1]"
   ]
  },
  {
   "cell_type": "code",
   "execution_count": 13,
   "metadata": {},
   "outputs": [],
   "source": [
    "confident_train = []\n",
    "for i in range(len(train_prob)):\n",
    "    if max(train_prob[i]) >= 0.9:\n",
    "        confident_train.append(i)\n",
    "confident_dev = []\n",
    "for i in range(len(dev_prob)):\n",
    "    if max(dev_prob[i]) >= 0.9:\n",
    "        confident_dev.append(i)"
   ]
  },
  {
   "cell_type": "code",
   "execution_count": 14,
   "metadata": {},
   "outputs": [
    {
     "data": {
      "text/plain": [
       "1078"
      ]
     },
     "execution_count": 14,
     "metadata": {},
     "output_type": "execute_result"
    }
   ],
   "source": [
    "len(confident_train)"
   ]
  },
  {
   "cell_type": "code",
   "execution_count": 15,
   "metadata": {},
   "outputs": [
    {
     "data": {
      "text/plain": [
       "103"
      ]
     },
     "execution_count": 15,
     "metadata": {},
     "output_type": "execute_result"
    }
   ],
   "source": [
    "len(confident_dev)"
   ]
  },
  {
   "cell_type": "code",
   "execution_count": 16,
   "metadata": {},
   "outputs": [
    {
     "name": "stdout",
     "output_type": "stream",
     "text": [
      "23.526844172850282 percent of training samples are confident\n",
      "22.489082969432314 percent of dev samples are confident\n"
     ]
    }
   ],
   "source": [
    "print(str(100*len(confident_train)/len(train_prob)) + ' percent of training samples are confident')\n",
    "print(str(100*len(confident_dev)/len(dev_prob)) + ' percent of dev samples are confident')"
   ]
  },
  {
   "cell_type": "code",
   "execution_count": 17,
   "metadata": {},
   "outputs": [],
   "source": [
    "confident = 0\n",
    "confident_ind = []\n",
    "for i in confident_train:\n",
    "    if(sentiment.trainy[i] == train_pred[i]):\n",
    "        confident += 1\n",
    "        confident_ind.append(i)"
   ]
  },
  {
   "cell_type": "code",
   "execution_count": 18,
   "metadata": {},
   "outputs": [],
   "source": [
    "confidentd = 0\n",
    "confident_dev_ind = []\n",
    "overconfident_dev_ind = []\n",
    "for i in confident_dev:\n",
    "    if(sentiment.devy[i] == dev_pred[i]):\n",
    "        confidentd += 1\n",
    "        confident_dev_ind.append(i)\n",
    "    else:\n",
    "        overconfident_dev_ind.append(i)"
   ]
  },
  {
   "cell_type": "code",
   "execution_count": 19,
   "metadata": {},
   "outputs": [
    {
     "name": "stdout",
     "output_type": "stream",
     "text": [
      "92.23300970873787 percent of confident samples are predicted correctly\n",
      "7.766990291262136 percent of confident samples are predicted incorrectly\n"
     ]
    }
   ],
   "source": [
    "print(str(100*confidentd/len(confident_dev)) + ' percent of confident samples are predicted correctly')\n",
    "print(str(100*len(overconfident_dev_ind)/len(confident_dev)) + ' percent of confident samples are predicted incorrectly')"
   ]
  },
  {
   "cell_type": "code",
   "execution_count": 20,
   "metadata": {},
   "outputs": [
    {
     "name": "stdout",
     "output_type": "stream",
     "text": [
      "--------------------------------------------------\n",
      "Top k=8\n",
      "--------------------------------------------------\n",
      "and\n",
      "excellent\n",
      "delicious\n",
      "amazing\n",
      "love\n",
      "best\n",
      "!\n",
      "great\n",
      "--------------------------------------------------\n",
      "Bottom k=8\n",
      "--------------------------------------------------\n",
      "not\n",
      "worst\n",
      "horrible\n",
      "terrible\n",
      "rude\n",
      "bad\n",
      "be\n",
      "went\n"
     ]
    }
   ],
   "source": [
    "coefficients=cls.coef_[0]\n",
    "k = 8\n",
    "top_k =np.argsort(coefficients)[-k:]\n",
    "top_k_words = []\n",
    "\n",
    "print('-'*50)\n",
    "print('Top k=%d' %k)\n",
    "print('-'*50)\n",
    "\n",
    "for i in top_k:\n",
    "    print(feat_names[i])\n",
    "    top_k_words.append(feat_names[i])\n",
    "#print(sentiment.count_ve\n",
    "print('-'*50)\n",
    "print('Bottom k=%d' %k)\n",
    "print('-'*50)\n",
    "#top_k = np.argpartition(coefficients, -k)[-k:]\n",
    "bottom_k =np.argsort(coefficients)[:k]\n",
    "bottom_k_words = []\n",
    "#print(top_k)\n",
    "for i in bottom_k:\n",
    "    print(feat_names[i])\n",
    "    bottom_k_words.append(feat_names[i])\n",
    "\n",
    "#print(sentiment.count_ve"
   ]
  },
  {
   "cell_type": "code",
   "execution_count": 21,
   "metadata": {},
   "outputs": [
    {
     "data": {
      "text/plain": [
       "(171009,)"
      ]
     },
     "execution_count": 21,
     "metadata": {},
     "output_type": "execute_result"
    }
   ],
   "source": [
    "coefficients.shape"
   ]
  },
  {
   "cell_type": "code",
   "execution_count": 22,
   "metadata": {},
   "outputs": [],
   "source": [
    "dev_Data = sentiment.devX.todense()"
   ]
  },
  {
   "cell_type": "code",
   "execution_count": 23,
   "metadata": {},
   "outputs": [
    {
     "data": {
      "text/plain": [
       "(458, 171009)"
      ]
     },
     "execution_count": 23,
     "metadata": {},
     "output_type": "execute_result"
    }
   ],
   "source": [
    "dev_Data.shape"
   ]
  },
  {
   "cell_type": "code",
   "execution_count": 24,
   "metadata": {},
   "outputs": [
    {
     "data": {
      "text/plain": [
       "(171009, 1)"
      ]
     },
     "execution_count": 24,
     "metadata": {},
     "output_type": "execute_result"
    }
   ],
   "source": [
    "dev_Data[confident_dev_ind[0]].T.shape"
   ]
  },
  {
   "cell_type": "markdown",
   "metadata": {},
   "source": [
    "### Features having high values"
   ]
  },
  {
   "cell_type": "code",
   "execution_count": 25,
   "metadata": {},
   "outputs": [
    {
     "name": "stdout",
     "output_type": "stream",
     "text": [
      "['wendy', 'nail', 'for about two', \"'s nail\", 'nail . had', 'because wa not', 'had been going', 'two year .', 'never use', '. had been', 'will never use', 'about two', 'about two year', 'nail ,', 'nail .', \"'s for\", '. asked for', 'relatively', 'two year', 'because wa']\n",
      "['burger wa', 'burger', 'burger wa dry', 'wa disappointing', 'wa', 'wa dry', 'disappointing ,', 'not what', 'wa expecting', 'crispy', 'what wa', 'expecting', 'bacon', 'dry', 'overall', ', not', 'disappointing', \"wa n't\", 'what', \"n't\"]\n",
      "['even one', 'open door', 'slapped', 'place doe not', 'mold', 'door you', 'odor', 'not even one', 'even one star', 'place doe', 'this place doe', 'star . we', 'stinky', 'one star .', 'grease', 'deserve', 'doe not', ',', 'not even', 'one star']\n",
      "['thai', 'fare .', 'for take-out', 'in madison and', 'dining in', 'than your', 'thai restaurant', 'restaurant ...', 'anywhere else .', 'madison and', '... best', '. more', 'your average', 'and most', \"best 've had\", 'fare', 'take-out', 'multiple time', 'anywhere else', \"'ve\"]\n",
      "['there are plenty', 'are plenty', 'ha horrible', 'even give', 'plenty other', 'management .', 'place around', 'around corner', 'other place', 'provide', 'that can', 'possible', 'give them', 'if wa', 'corner', 'plenty', 'not even', '. there are', 'management', 'would not']\n",
      "['our table and', '. our table', 'once and', 'manager are', 'very rude and', 'only ate', 'we only', 'wa filthy .', 'wa filthy', 'are very rude', 'wa enough', 'here once', 'filthy .', 'table and', 'and that wa', 'is horrible .', 'filthy', 'enough .', 'very rude', 'including']\n",
      "['while and have', 'coming la', 'experience for', 'while and', 'server ,', 'for while', 'have been coming', 'cuisine', 'been coming', 'great experience', 'truly', 'unique', 'great', 'location .', 'that is', '. great', 'have', 'server', 'is very', 'coming']\n",
      "['review is not', 'this location and', 'today at', 'never encountered', 'is not for', 'my review is', 'bad customer service', 'bad customer', 'not for', 'encountered', 'food but', 'and never', 'but for', 'particular', 'for food', 'location and', 'review is', 'my review', 'rather', 'often']\n",
      "['garlic', '!', 'love here', 'we love here', 'place . definitely', 'stand out', 'love here !', 'out other', 'and garlic', 'beef and', '! !', 'stand', 'here ! !', 'ta', 'got ta', 'we love', '. definitely', 'here !', 'bbq', 'shrimp']\n",
      "['!', 'place and am', 'happy ! !', '! ! pizza', '! pizza is', 'order this place', 'am so happy', 'had my first', 'order this', 'happy !', 'seriously amazing', 'just had my', 'wing are', '! !', 'are my', 'am so', 'really good and', '! pizza', '! are', 'and wing']\n"
     ]
    }
   ],
   "source": [
    "k = 20\n",
    "for i in range(10):\n",
    "    sort_ind = np.argsort(dev_Data[confident_dev_ind[i]])[0, -k:]\n",
    "    sort_ind = np.flip(sort_ind, axis = 1)\n",
    "    #print(sort_ind.shape)\n",
    "    conf_feat_name = []\n",
    "    for j in range(sort_ind.shape[1]):\n",
    "        conf_feat_name.append(feat_names[sort_ind[0, j]])\n",
    "    print(conf_feat_name)"
   ]
  },
  {
   "cell_type": "markdown",
   "metadata": {},
   "source": [
    "### Features x Weights"
   ]
  },
  {
   "cell_type": "code",
   "execution_count": 26,
   "metadata": {},
   "outputs": [],
   "source": [
    "coefficients = cls.coef_[0]"
   ]
  },
  {
   "cell_type": "code",
   "execution_count": 27,
   "metadata": {},
   "outputs": [
    {
     "data": {
      "text/plain": [
       "matrix([[     0, 119696,  78052,    126,   1175, 113908,  24362,  77122,\n",
       "         113907,  78051, 132323,  90411, 165820,      1,  30958,  24359,\n",
       "         125207,   1173,    333,  29369]], dtype=int64)"
      ]
     },
     "execution_count": 27,
     "metadata": {},
     "output_type": "execute_result"
    }
   ],
   "source": [
    "sort_ind"
   ]
  },
  {
   "cell_type": "code",
   "execution_count": 28,
   "metadata": {},
   "outputs": [
    {
     "name": "stdout",
     "output_type": "stream",
     "text": [
      "What a ripoff place, bad service, false advertising, over prices. I wish that I haven't gone there to unblock my phone\n",
      "There's nothing I can say in this review that hasn't already been said by the other reviewers. This bar is terrible. Just terrible. We went in on a Friday night\n",
      "Great sunday brunch option. Food was very good. I will definitely return.\n",
      "Always get a great hair cut at BNB!\n",
      "Great prices and atmosphere here. 12 chicken wings, a shot and a gormet beer was less than $20! They played good, classic music, other than The (fucking) Cranberries and the\n",
      "They nickel and dime you with undisclosed charges after the lease is signed. They said they would renovate but, it was only cosmetic, not internal for the residents. Our amenities\n",
      "It's hard for me to give this place a 1 star but I feel like I must after my experience..I came to Vegas for a vacation so I was excited\n",
      "Good food, good drink, great atmosphere!Such a cool place. Loved the southern fries, whiskey burger, and brussel sprout slaw. More than enough food to share!Our group loved the whiskey drinks\n",
      "I wish I could give this company a negative score.  I ordered tv and cable, both of which are HORRIBLE.  I only signed up with them because I\n",
      "The food is about average everytime I order. This is something I would not go out of my way for. The absolute WORST is when I order delivery for one\n"
     ]
    }
   ],
   "source": [
    "for i in range(20,30):\n",
    "    print(sentiment.dev_data[confident_dev_ind[i]])"
   ]
  },
  {
   "cell_type": "code",
   "execution_count": 29,
   "metadata": {},
   "outputs": [
    {
     "name": "stdout",
     "output_type": "stream",
     "text": [
      "[',', 'my', \"have n't\", 'place ,', 'that have', 'place', 'price', 'bad service ,', '. wish', 'down street']\n",
      "['can', 'can say', 'is', 'night', 'already', 'reviewer', 'other', 'in', \"'s\", '. this']\n",
      "['great', 'definitely', 'good', 'very', 'very good', 'will definitely', 'good .', '. will definitely', 'brunch', 'return .']\n",
      "['great', '!', 'always', 'always get', 'get great', 'get', 'down street (', 'down tea infusion', 'down tea', 'down syndrome .']\n",
      "['great', 'and', '!', 'good', 'atmosphere', ',', 'than', 'music ,', 'classic', 'other']\n",
      "['and', 'is', ',', 'but ,', ', wa', 'you', 'with', 'for', 'down tea', 'down try']\n",
      "['vega', 'so wa', 'my', 'must', \"'s\", 'for', 'give this', 'vacation so', 'for vacation so', 'for vacation']\n",
      "['!', 'great', 'loved', 'good', 'cool', ',', ', good', 'and', 'atmosphere', 'good food']\n",
      "['both', 'and', 'which', 'score', ',', 'give this', 'are', ', both', 'with', 'negative']\n",
      "['is', 'this is', 'my', 'my way', 'way', 'out my', '. this', 'go out', 'out my way', 'for']\n"
     ]
    }
   ],
   "source": [
    "k = 10\n",
    "coefficients_reshape = np.reshape(coefficients, (171009, 1))\n",
    "for i in range(20, 30):\n",
    "    temp = np.multiply(coefficients_reshape, dev_Data[confident_dev_ind[i]].T)\n",
    "    sort_ind = np.argsort(temp, axis = 0)[-k:, 0]\n",
    "    #print(sort_ind)\n",
    "    sort_ind = np.flip(sort_ind)\n",
    "    #print(sort_ind.shape)\n",
    "    conf_feat_name = []\n",
    "    for j in range(sort_ind.shape[0]):\n",
    "        conf_feat_name.append(feat_names[sort_ind[j, 0]])\n",
    "    print(conf_feat_name)"
   ]
  },
  {
   "cell_type": "markdown",
   "metadata": {},
   "source": [
    "### For overconfident predictions"
   ]
  },
  {
   "cell_type": "code",
   "execution_count": 30,
   "metadata": {},
   "outputs": [
    {
     "data": {
      "text/plain": [
       "8"
      ]
     },
     "execution_count": 30,
     "metadata": {},
     "output_type": "execute_result"
    }
   ],
   "source": [
    "len(overconfident_dev_ind)"
   ]
  },
  {
   "cell_type": "code",
   "execution_count": 31,
   "metadata": {},
   "outputs": [
    {
     "name": "stdout",
     "output_type": "stream",
     "text": [
      "Cons: Not-so-friendly service and cash only. You don't spend much time with them anyways so it's not a big deal. Slightly expensive. The portion sizes are medium sized, so not\n",
      "guy with the turban-----not friendly!\n",
      "Summary:  Beautiful hotel, highly error-prone staff. It is rare to find a hotel as beautiful as this. The look is very modern which I happen to love. It has\n",
      "I went in for an umbrella for our umbrella stroller but they didn't have it.  However, I had three of the nicest employees helping me out which I greatly\n",
      "Ok so this is not fast pizza so if you need it in ten minutes and don't really care what it tastes like then this may not be your place.\n",
      "What's there to not like about this place. I was looking for a Yogurtland and instead went in here. The name doesn't fit the interior at all. I, for some\n",
      "Having trouble on what to have for dinner and have a big appetite, Check out this place The desserts are great and so is the fresh food. I love coming\n",
      "Wtpho?! Exactly what I thought when we arrived in the parking lot.The face front not to much to say about it just looks like a normal business. Inside was nice\n"
     ]
    }
   ],
   "source": [
    "for i in range(8):\n",
    "    print(sentiment.dev_data[overconfident_dev_ind[i]])"
   ]
  },
  {
   "cell_type": "code",
   "execution_count": 32,
   "metadata": {},
   "outputs": [
    {
     "name": "stdout",
     "output_type": "stream",
     "text": [
      "1 0\n",
      "0 1\n",
      "0 1\n",
      "1 0\n",
      "1 0\n",
      "1 0\n",
      "0 1\n",
      "1 0\n"
     ]
    }
   ],
   "source": [
    "for i in range(8):\n",
    "    print(sentiment.devy[overconfident_dev_ind[i]], dev_pred[overconfident_dev_ind[i]])"
   ]
  },
  {
   "cell_type": "code",
   "execution_count": 33,
   "metadata": {},
   "outputs": [
    {
     "name": "stdout",
     "output_type": "stream",
     "text": [
      "['and', 'big', \"'s\", 'service and', 'time with', 'much', ',', 'you', 'deal', '. you do']\n",
      "['!', 'friendly', '--', '-- --', 'with', 'friendly !', 'down side is', 'down so', 'down so much', 'down so paid']\n",
      "['love', 'is', 'beautiful', 'very', 'highly', 'find', 'staff', 'staff .', 'is very', '. ha']\n",
      "['which', 'for', 'nicest', ',', 'greatly', 'in', \"n't have\", 'out which', 'me out', \"but did n't\"]\n",
      "['this is', 'fast', 'and', 'is', 'care', 'really', 'may not', 'ok so', 'so if you', 'pizza']\n",
      "['and', '. wa', 'looking for', 'all', \"'s\", 'not like', 'for', 'interior', 'fit', 'like about this']\n",
      "['great', 'love', 'and', 'fresh', '. love', 'dessert', 'coming', 'great and', 'dinner', 'is']\n",
      "['!', 'nice', 'look', 'much', 'normal', 'face', 'exactly', 'in parking', 'inside wa', 'in']\n"
     ]
    }
   ],
   "source": [
    "k = 10\n",
    "coefficients_reshape = np.reshape(coefficients, (171009, 1))\n",
    "for i in range(8):\n",
    "    temp = np.multiply(coefficients_reshape, dev_Data[overconfident_dev_ind[i]].T)\n",
    "    sort_ind = np.argsort(temp, axis = 0)[-k:, 0]\n",
    "    #print(sort_ind)\n",
    "    sort_ind = np.flip(sort_ind)\n",
    "    #print(sort_ind.shape)\n",
    "    conf_feat_name = []\n",
    "    for j in range(sort_ind.shape[0]):\n",
    "        conf_feat_name.append(feat_names[sort_ind[j, 0]])\n",
    "    print(conf_feat_name)"
   ]
  },
  {
   "cell_type": "markdown",
   "metadata": {},
   "source": [
    "### Using LIME"
   ]
  },
  {
   "cell_type": "code",
   "execution_count": 34,
   "metadata": {},
   "outputs": [],
   "source": [
    "import lime"
   ]
  },
  {
   "cell_type": "code",
   "execution_count": 35,
   "metadata": {},
   "outputs": [],
   "source": [
    "vectorizer = sentiment.count_vect"
   ]
  },
  {
   "cell_type": "code",
   "execution_count": 36,
   "metadata": {},
   "outputs": [],
   "source": [
    "rf = cls"
   ]
  },
  {
   "cell_type": "code",
   "execution_count": 37,
   "metadata": {},
   "outputs": [],
   "source": [
    "from lime import lime_text\n",
    "from sklearn.pipeline import make_pipeline\n",
    "c = make_pipeline(vectorizer, rf)"
   ]
  },
  {
   "cell_type": "code",
   "execution_count": 41,
   "metadata": {},
   "outputs": [
    {
     "data": {
      "text/plain": [
       "\"Came in for some good after a long day at work. Some of the food I wanted wasn't ready, and I understand that, but the employee Bianca refused to tell\""
      ]
     },
     "execution_count": 41,
     "metadata": {},
     "output_type": "execute_result"
    }
   ],
   "source": [
    "sentiment.dev_data[0]"
   ]
  },
  {
   "cell_type": "code",
   "execution_count": 40,
   "metadata": {},
   "outputs": [
    {
     "name": "stdout",
     "output_type": "stream",
     "text": [
      "[[0.81742578 0.18257422]]\n"
     ]
    }
   ],
   "source": [
    "print(c.predict_proba([sentiment.dev_data[0]]))"
   ]
  },
  {
   "cell_type": "code",
   "execution_count": 45,
   "metadata": {},
   "outputs": [],
   "source": [
    "class_names = ['negative', 'positive']"
   ]
  },
  {
   "cell_type": "code",
   "execution_count": 46,
   "metadata": {},
   "outputs": [],
   "source": [
    "from lime.lime_text import LimeTextExplainer\n",
    "explainer = LimeTextExplainer(class_names=class_names)"
   ]
  },
  {
   "cell_type": "code",
   "execution_count": 48,
   "metadata": {},
   "outputs": [
    {
     "data": {
      "text/plain": [
       "\"Originally from Bally's, they have a long-time clientele visiting by cabs.My favorite here is Chirashi, and that's what the owner takes pride in - generous portion of fresh sashimi. On\""
      ]
     },
     "execution_count": 48,
     "metadata": {},
     "output_type": "execute_result"
    }
   ],
   "source": [
    "sentiment.dev_data[idx]"
   ]
  },
  {
   "cell_type": "code",
   "execution_count": 50,
   "metadata": {},
   "outputs": [
    {
     "name": "stdout",
     "output_type": "stream",
     "text": [
      "Document id: 83\n",
      "Probability(positive) = 0.6263470935837153\n",
      "True class: positive\n"
     ]
    }
   ],
   "source": [
    "idx = 83\n",
    "exp = explainer.explain_instance(sentiment.dev_data[idx], c.predict_proba, num_features=6)\n",
    "print('Document id: %d' % idx)\n",
    "print('Probability(positive) =', c.predict_proba([sentiment.dev_data[idx]])[0,1])\n",
    "print('True class: %s' % class_names[sentiment.devy[idx]])"
   ]
  },
  {
   "cell_type": "code",
   "execution_count": 52,
   "metadata": {},
   "outputs": [
    {
     "data": {
      "text/plain": [
       "[('favorite', 0.13301764018264134),\n",
       " ('fresh', 0.07965113401736593),\n",
       " ('what', -0.07289644000699412),\n",
       " ('s', 0.0699744350019092),\n",
       " ('visiting', 0.05600017395294827),\n",
       " ('that', -0.05553713299127041)]"
      ]
     },
     "execution_count": 52,
     "metadata": {},
     "output_type": "execute_result"
    }
   ],
   "source": [
    "exp.as_list()"
   ]
  },
  {
   "cell_type": "code",
   "execution_count": 60,
   "metadata": {},
   "outputs": [
    {
     "name": "stdout",
     "output_type": "stream",
     "text": [
      "Original prediction: 0.6263470935837153\n",
      "Prediction removing some features: 0.6736285947943461\n",
      "Difference: 0.047281501210630794\n"
     ]
    }
   ],
   "source": [
    "print('Original prediction:', rf.predict_proba(sentiment.devX[idx])[0,1])\n",
    "tmp = sentiment.devX[idx].copy()\n",
    "tmp[0,vectorizer.vocabulary_['what']] = 0\n",
    "tmp[0,vectorizer.vocabulary_['that']] = 0\n",
    "print('Prediction removing some features:', rf.predict_proba(tmp)[0,1])\n",
    "print('Difference:', rf.predict_proba(tmp)[0,1] - rf.predict_proba(sentiment.devX[idx])[0,1])"
   ]
  }
 ],
 "metadata": {
  "kernelspec": {
   "display_name": "Python 3",
   "language": "python",
   "name": "python3"
  },
  "language_info": {
   "codemirror_mode": {
    "name": "ipython",
    "version": 3
   },
   "file_extension": ".py",
   "mimetype": "text/x-python",
   "name": "python",
   "nbconvert_exporter": "python",
   "pygments_lexer": "ipython3",
   "version": "3.5.5"
  }
 },
 "nbformat": 4,
 "nbformat_minor": 2
}
